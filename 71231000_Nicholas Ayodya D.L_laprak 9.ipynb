{
 "cells": [
  {
   "cell_type": "code",
   "execution_count": 2,
   "metadata": {},
   "outputs": [
    {
     "name": "stdout",
     "output_type": "stream",
     "text": [
      "[100, 97, 89]\n"
     ]
    }
   ],
   "source": [
    "p=[59,100,88,67,89,36,41,58,38,74,34,73,30,11,97,45]\n",
    "p.sort(reverse=True)\n",
    "print(p[:3])"
   ]
  },
  {
   "cell_type": "code",
   "execution_count": 5,
   "metadata": {},
   "outputs": [
    {
     "name": "stdout",
     "output_type": "stream",
     "text": [
      "nilai maksimum: 46745\n",
      "nilai minimum: 2\n"
     ]
    }
   ],
   "source": [
    "x=[]\n",
    "y=False\n",
    "while y == False:\n",
    "    p=input(\"masukkan angka: \")\n",
    "    if p == \"done\":\n",
    "        y=True\n",
    "        print(f\"nilai maksimum: {max(x)}\")\n",
    "        print(f\"nilai minimum: {min(x)}\")\n",
    "    else:\n",
    "        r=int(p)\n",
    "        x.append(r)"
   ]
  },
  {
   "cell_type": "code",
   "execution_count": 6,
   "metadata": {},
   "outputs": [
    {
     "name": "stdout",
     "output_type": "stream",
     "text": [
      "==========ISI BERITA==========\n",
      "Kritikus kuliner Codeblu menang usai membuat Chef Arnold KO dalam pertandingan tinju Celebrity Fight, Minggu (21/4). (Screenshot dari Instagram @hwsportshow )\n",
      "\n",
      "Jakarta, CNN Indonesia -- Kritikus kuliner Codeblu sukses menang usai membuat Chef Arnold KO dalam pertandingan tinju Celebrity Fight yang digelar di Indonesia Arena, Minggu (21/4) malam. Dalam video yang diunggah HWS Sports Show selaku penyelenggara, Codeblu mampu memojokkan Chef Arnold hingga tersungkur dan sulit bangun hingga dinyatakan KO oleh wasit.\n",
      "\n",
      "Chef Arnold sempat emosional saat berhadapan dengan Codeblu sebelum pertandingan digelar. Ketika di atas ring, emosi Arnold masih terlihat dengan jelas. Sementara itu, Codeblu yang mengaku bersedia mengikuti laga ini atas nama anaknya yang tengah dikandung sang istri, tampil dengan lebih santai. Namun keduanya tampak sama-sama enggan mengalah. Arnold terus memberikan serangan dengan Codeblu yang memasang mode bertahan, tapi justru membuat Arnold terpojok ke sudut ring. Pada saat itulah, Codeblu leluasa menyerang Arnold.\n",
      "\n",
      "Pertandingan tinju ini merupakan tindak lanjut dari perseteruan antara keduanya selama beberapa waktu terakhir. Semua bermula ketika Codeblu mengkritik pedas restoran milik Chef Arnold.\n",
      "\n",
      "Codeblu semula dikenal sebagai salah satu konten kreator anonim pengulas makanan di TikTok dan Instagram. Namun konflik Codeblu dengan Omay alias Farida Nurhan membuat identitas Codeblu yang merupakan mantan chef dan pebisnis kuliner terungkap. Chef yang bernama lengkap Arnold Poernomo dan dikenal suka memberikan ulasan pedas saat menjadi juri ajang memasak itu bahkan sempat mengaku malu dengan kritikan Codeblu.\n",
      "\n",
      "\n",
      "==========KALIMAT UNIK PADA BERITA==========\n",
      "['Kritikus', 'kuliner', 'Codeblu', 'menang', 'usai', 'membuat', 'Chef', 'Arnold', 'KO', 'dalam', 'pertandingan', 'tinju', 'Celebrity', 'Fight,', 'Minggu', '(21/4).', '(Screenshot', 'dari', 'Instagram', '@hwsportshow', ')', '', 'Jakarta,', 'CNN', 'Indonesia', '--', 'Kritikus', 'kuliner', 'Codeblu', 'sukses', 'menang', 'usai', 'membuat', 'Chef', 'Arnold', 'KO', 'dalam', 'pertandingan', 'tinju', 'Celebrity', 'Fight', 'yang', 'digelar', 'di', 'Indonesia', 'Arena,', 'Minggu', '(21/4)', 'malam.', 'Dalam', 'video', 'yang', 'diunggah', 'HWS', 'Sports', 'Show', 'selaku', 'penyelenggara,', 'Codeblu', 'mampu', 'memojokkan', 'Chef', 'Arnold', 'hingga', 'tersungkur', 'dan', 'sulit', 'bangun', 'hingga', 'dinyatakan', 'KO', 'oleh', 'wasit.', '', 'Chef', 'Arnold', 'sempat', 'emosional', 'saat', 'berhadapan', 'dengan', 'Codeblu', 'sebelum', 'pertandingan', 'digelar.', 'Ketika', 'di', 'atas', 'ring,', 'emosi', 'Arnold', 'masih', 'terlihat', 'dengan', 'jelas.', 'Sementara', 'itu,', 'Codeblu', 'yang', 'mengaku', 'bersedia', 'mengikuti', 'laga', 'ini', 'atas', 'nama', 'anaknya', 'yang', 'tengah', 'dikandung', 'sang', 'istri,', 'tampil', 'dengan', 'lebih', 'santai.', 'Namun', 'keduanya', 'tampak', 'sama-sama', 'enggan', 'mengalah.', 'Arnold', 'terus', 'memberikan', 'serangan', 'dengan', 'Codeblu', 'yang', 'memasang', 'mode', 'bertahan,', 'tapi', 'justru', 'membuat', 'Arnold', 'terpojok', 'ke', 'sudut', 'ring.', 'Pada', 'saat', 'itulah,', 'Codeblu', 'leluasa', 'menyerang', 'Arnold.', '', 'Pertandingan', 'tinju', 'ini', 'merupakan', 'tindak', 'lanjut', 'dari', 'perseteruan', 'antara', 'keduanya', 'selama', 'beberapa', 'waktu', 'terakhir.', 'Semua', 'bermula', 'ketika', 'Codeblu', 'mengkritik', 'pedas', 'restoran', 'milik', 'Chef', 'Arnold.', '', 'Codeblu', 'semula', 'dikenal', 'sebagai', 'salah', 'satu', 'konten', 'kreator', 'anonim', 'pengulas', 'makanan', 'di', 'TikTok', 'dan', 'Instagram.', 'Namun', 'konflik', 'Codeblu', 'dengan', 'Omay', 'alias', 'Farida', 'Nurhan', 'membuat', 'identitas', 'Codeblu', 'yang', 'merupakan', 'mantan', 'chef', 'dan', 'pebisnis', 'kuliner', 'terungkap.', 'Chef', 'yang', 'bernama', 'lengkap', 'Arnold', 'Poernomo', 'dan', 'dikenal', 'suka', 'memberikan', 'ulasan', 'pedas', 'saat', 'menjadi', 'juri', 'ajang', 'memasak', 'itu', 'bahkan', 'sempat', 'mengaku', 'malu', 'dengan', 'kritikan', 'Codeblu.']\n"
     ]
    }
   ],
   "source": [
    "p=open('New Text Document.txt', 'r')\n",
    "list=[]\n",
    "word=\"\"\n",
    "for i in p:\n",
    "    x=i.strip(\"\\n\")\n",
    "    list.extend(x.split(\" \"))\n",
    "    word+=i\n",
    "print(f\"==========ISI BERITA==========\\n{word}\")\n",
    "print(f\"\\n\\n==========KALIMAT UNIK PADA BERITA==========\\n{list}\")"
   ]
  }
 ],
 "metadata": {
  "kernelspec": {
   "display_name": "Python 3",
   "language": "python",
   "name": "python3"
  },
  "language_info": {
   "codemirror_mode": {
    "name": "ipython",
    "version": 3
   },
   "file_extension": ".py",
   "mimetype": "text/x-python",
   "name": "python",
   "nbconvert_exporter": "python",
   "pygments_lexer": "ipython3",
   "version": "3.12.2"
  }
 },
 "nbformat": 4,
 "nbformat_minor": 2
}
